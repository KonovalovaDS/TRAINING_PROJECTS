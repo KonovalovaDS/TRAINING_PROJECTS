{
 "cells": [
  {
   "cell_type": "markdown",
   "id": "6bf28166-5526-44bd-864a-f018c00c1cb2",
   "metadata": {},
   "source": [
    "## <center> Stochastic gradient and coordinate descent </center>"
   ]
  },
  {
   "cell_type": "markdown",
   "id": "ebd9678c-ca39-4162-9394-1ef8169e5ef7",
   "metadata": {},
   "source": [
    "#### Data preparation"
   ]
  },
  {
   "cell_type": "code",
   "execution_count": 1,
   "id": "3bfb83c6-88ce-4cce-8cc3-b296e1645ffd",
   "metadata": {},
   "outputs": [],
   "source": [
    "import numpy as np\n",
    "import pandas as pd\n",
    "import matplotlib.pyplot as plt"
   ]
  },
  {
   "cell_type": "code",
   "execution_count": 2,
   "id": "87f514d8-c138-47d3-bbc7-fe60eb80d4d9",
   "metadata": {},
   "outputs": [
    {
     "data": {
      "text/html": [
       "<div>\n",
       "<style scoped>\n",
       "    .dataframe tbody tr th:only-of-type {\n",
       "        vertical-align: middle;\n",
       "    }\n",
       "\n",
       "    .dataframe tbody tr th {\n",
       "        vertical-align: top;\n",
       "    }\n",
       "\n",
       "    .dataframe thead th {\n",
       "        text-align: right;\n",
       "    }\n",
       "</style>\n",
       "<table border=\"1\" class=\"dataframe\">\n",
       "  <thead>\n",
       "    <tr style=\"text-align: right;\">\n",
       "      <th></th>\n",
       "      <th>TV</th>\n",
       "      <th>radio</th>\n",
       "      <th>newspaper</th>\n",
       "      <th>sales</th>\n",
       "    </tr>\n",
       "  </thead>\n",
       "  <tbody>\n",
       "    <tr>\n",
       "      <th>1</th>\n",
       "      <td>230.1</td>\n",
       "      <td>37.8</td>\n",
       "      <td>69.2</td>\n",
       "      <td>22.1</td>\n",
       "    </tr>\n",
       "    <tr>\n",
       "      <th>2</th>\n",
       "      <td>44.5</td>\n",
       "      <td>39.3</td>\n",
       "      <td>45.1</td>\n",
       "      <td>10.4</td>\n",
       "    </tr>\n",
       "    <tr>\n",
       "      <th>3</th>\n",
       "      <td>17.2</td>\n",
       "      <td>45.9</td>\n",
       "      <td>69.3</td>\n",
       "      <td>9.3</td>\n",
       "    </tr>\n",
       "    <tr>\n",
       "      <th>4</th>\n",
       "      <td>151.5</td>\n",
       "      <td>41.3</td>\n",
       "      <td>58.5</td>\n",
       "      <td>18.5</td>\n",
       "    </tr>\n",
       "    <tr>\n",
       "      <th>5</th>\n",
       "      <td>180.8</td>\n",
       "      <td>10.8</td>\n",
       "      <td>58.4</td>\n",
       "      <td>12.9</td>\n",
       "    </tr>\n",
       "  </tbody>\n",
       "</table>\n",
       "</div>"
      ],
      "text/plain": [
       "      TV  radio  newspaper  sales\n",
       "1  230.1   37.8       69.2   22.1\n",
       "2   44.5   39.3       45.1   10.4\n",
       "3   17.2   45.9       69.3    9.3\n",
       "4  151.5   41.3       58.5   18.5\n",
       "5  180.8   10.8       58.4   12.9"
      ]
     },
     "execution_count": 2,
     "metadata": {},
     "output_type": "execute_result"
    }
   ],
   "source": [
    "url = 'https://drive.google.com/file/d/1-iXEOVUr01-0mMAELHh4A2qGSzrRvSoA/view?usp=sharing'\n",
    "path = 'https://drive.google.com/uc?export=download&id='+url.split('/')[-2]\n",
    "\n",
    "df = pd.read_csv(path, index_col = 0, compression = 'zip')\n",
    "df.head()"
   ]
  },
  {
   "cell_type": "code",
   "execution_count": 3,
   "id": "cc86b01a-0f8d-46b2-bcec-ab9219777d1a",
   "metadata": {},
   "outputs": [
    {
     "name": "stdout",
     "output_type": "stream",
     "text": [
      "<class 'pandas.core.frame.DataFrame'>\n",
      "Index: 200 entries, 1 to 200\n",
      "Data columns (total 4 columns):\n",
      " #   Column     Non-Null Count  Dtype  \n",
      "---  ------     --------------  -----  \n",
      " 0   TV         200 non-null    float64\n",
      " 1   radio      200 non-null    float64\n",
      " 2   newspaper  200 non-null    float64\n",
      " 3   sales      200 non-null    float64\n",
      "dtypes: float64(4)\n",
      "memory usage: 7.8 KB\n"
     ]
    }
   ],
   "source": [
    "df.info()"
   ]
  },
  {
   "cell_type": "code",
   "execution_count": 4,
   "id": "40177ab8-f6ac-485b-ae47-aefe251a9f8e",
   "metadata": {},
   "outputs": [
    {
     "data": {
      "text/plain": [
       "TV           0\n",
       "radio        0\n",
       "newspaper    0\n",
       "sales        0\n",
       "dtype: int64"
      ]
     },
     "execution_count": 4,
     "metadata": {},
     "output_type": "execute_result"
    }
   ],
   "source": [
    "df.isnull().sum()"
   ]
  },
  {
   "cell_type": "markdown",
   "id": "8045a16c-8e4f-46f8-a10c-8724b0351ef8",
   "metadata": {},
   "source": [
    "## <center> Coordinate Descent Algorithm </center>"
   ]
  },
  {
   "cell_type": "markdown",
   "id": "a0bf9886-923b-4752-acf3-a0b775dac396",
   "metadata": {},
   "source": [
    "#### Convertion features into NumPy arrays and split them into X (predictors) and y (target) variables."
   ]
  },
  {
   "cell_type": "code",
   "execution_count": 5,
   "id": "d861e3ea-421d-4ef7-a582-2365ef9bc207",
   "metadata": {},
   "outputs": [],
   "source": [
    "X = df[['TV', 'radio', 'newspaper']]\n",
    "y = df['sales']"
   ]
  },
  {
   "cell_type": "code",
   "execution_count": null,
   "id": "1e36bc2a-7929-4785-81ce-59c803a6ee6d",
   "metadata": {},
   "outputs": [],
   "source": [
    "# Option 1\n",
    "\n",
    "n = len(y)\n",
    "\n",
    "X = np.append(np.ones((n, 1)), X.values.reshape(n, 3), axis = 1)\n",
    "y = df['sales'].values.reshape(n, 1)\n",
    "w = np.zeros((4, 1)) \n",
    "\n",
    "print(X.shape, y.shape)"
   ]
  },
  {
   "cell_type": "code",
   "execution_count": 6,
   "id": "be64a79a-e627-4ccb-9023-68e0975a30b6",
   "metadata": {},
   "outputs": [
    {
     "name": "stdout",
     "output_type": "stream",
     "text": [
      "(200, 4) (200, 1)\n"
     ]
    }
   ],
   "source": [
    "# Option 2\n",
    "\n",
    "X = np.array(X)\n",
    "y = np.array(y)\n",
    "\n",
    "X = np.hstack([np.ones(X.shape[0]).reshape(-1, 1), X])\n",
    "y = y.reshape(-1, 1)\n",
    "\n",
    "print(X.shape, y.shape)"
   ]
  },
  {
   "cell_type": "code",
   "execution_count": 7,
   "id": "4e7f1a6d-902c-49da-816f-d14413b3cb44",
   "metadata": {},
   "outputs": [],
   "source": [
    "# Normalize the data\n",
    "\n",
    "X = X / np.sqrt(np.sum(np.square(X), axis = 0))"
   ]
  },
  {
   "cell_type": "markdown",
   "id": "9d7124a1-5b06-499c-8c1a-d0e4aad21cd9",
   "metadata": {},
   "source": [
    "#### Coordinate descent algorithm"
   ]
  },
  {
   "cell_type": "code",
   "execution_count": 8,
   "id": "9399effc-a52d-4c6e-b6de-1a8694630a1c",
   "metadata": {},
   "outputs": [
    {
     "name": "stdout",
     "output_type": "stream",
     "text": [
      "[[ 41.56217205]\n",
      " [110.13144155]\n",
      " [ 73.52860638]\n",
      " [ -0.55006384]]\n"
     ]
    }
   ],
   "source": [
    "num_iters = 1_000     # number of iterations\n",
    "m = X.shape[0]        # number of rows in matrix X\n",
    "n = X.shape[1]        # number of columns in matrix X\n",
    "w = np.zeros((4, 1))  # zeros vector\n",
    "\n",
    "for i in range(num_iters):\n",
    "    for k in range(n):\n",
    "        h = (X[:,0:k] @ w[0:k]) + (X[:,k+1:] @ w[k+1:]) # forecast without k-factor\n",
    "        w[k] = (X[:,k].T @ (y - h))                     # new value of k-factor coefficient\n",
    "        cost = sum(((X @ w) - y) ** 2) / (len(y))       # loss function calculation\n",
    "print(w)"
   ]
  },
  {
   "cell_type": "code",
   "execution_count": 9,
   "id": "3dddc687-e72c-4d68-a383-1dee1d7e29e9",
   "metadata": {},
   "outputs": [
    {
     "name": "stdout",
     "output_type": "stream",
     "text": [
      "[ 41.56217205 110.13144155  73.52860638  -0.55006384]\n"
     ]
    }
   ],
   "source": [
    "# Converting the vector results in more convinient format\n",
    "w = w.T[0]\n",
    "print(w)"
   ]
  },
  {
   "cell_type": "markdown",
   "id": "1239caa5-72b0-427a-9de8-53df67435522",
   "metadata": {},
   "source": [
    "#### Linear Regression model from sklearn Algorithm"
   ]
  },
  {
   "cell_type": "code",
   "execution_count": 10,
   "id": "40f4f8f0-13e3-4993-ae06-8ba4fdb979ff",
   "metadata": {},
   "outputs": [
    {
     "name": "stdout",
     "output_type": "stream",
     "text": [
      "[[ 41.56217205 110.13144155  73.52860638  -0.55006384]]\n"
     ]
    }
   ],
   "source": [
    "from sklearn import linear_model \n",
    "from sklearn.linear_model import LinearRegression\n",
    "\n",
    "model = LinearRegression(fit_intercept = False)\n",
    "model.fit(X, y)\n",
    "\n",
    "print(model.coef_)"
   ]
  },
  {
   "cell_type": "markdown",
   "id": "fce82a33-dc83-4a1e-85ef-8fbd51cab24f",
   "metadata": {},
   "source": [
    "### Conclusion:\n",
    "\n",
    "The results recieved using the \"manual\" method are exectly the same as the results recieved using the Linear Regression algorithm from sklearn library. It is not always the case, but if there is no mistakes the numbers received using both methods should be more or less the same - no significat differences."
   ]
  },
  {
   "cell_type": "markdown",
   "id": "fcfb9d56-71ec-416e-bebd-fbdd6ad17a35",
   "metadata": {},
   "source": [
    "## <center> Stochastic Gradient Descent </center>"
   ]
  },
  {
   "cell_type": "code",
   "execution_count": 11,
   "id": "df9eb48e-5c00-485f-8e76-bd548bf6ea1c",
   "metadata": {},
   "outputs": [
    {
     "name": "stdout",
     "output_type": "stream",
     "text": [
      "[ 3.91925365  2.79206274 -0.02253861]\n"
     ]
    }
   ],
   "source": [
    "# Standartization of initial data\n",
    "\n",
    "X_1 = df.drop('sales', axis = 1)\n",
    "y_1 = df['sales']\n",
    "\n",
    "X = np.array(X_1)\n",
    "y = np.array(y_1)\n",
    "\n",
    "X = (X - X.mean(axis = 0)) / X.std(axis = 0)\n",
    "\n",
    "# Update vector w after standartization of matrix X\n",
    "\n",
    "def lin_reg(X, y):\n",
    "    a = np.dot(X.T, X)\n",
    "    b = np.dot(X.T, y)\n",
    "    return np.linalg.solve(a, b)\n",
    "\n",
    "w = lin_reg(X, y).T\n",
    "\n",
    "print(w)"
   ]
  },
  {
   "cell_type": "code",
   "execution_count": 12,
   "id": "a2060b19-4119-445d-a4c5-19dc4799b9a7",
   "metadata": {},
   "outputs": [],
   "source": [
    "# Add zeros vector\n",
    "\n",
    "X = np.hstack([np.ones(X.shape[0]).reshape(-1, 1), X])"
   ]
  },
  {
   "cell_type": "code",
   "execution_count": 13,
   "id": "593b7240-58c7-48ce-ba2f-b3ae70f24730",
   "metadata": {},
   "outputs": [],
   "source": [
    "# MSE_ERROR function\n",
    "\n",
    "# Option 1\n",
    "# def mse_error(y_pred, y):\n",
    "    # mse = ((y - y_pred)**2).mean()\n",
    "    # return mse\n",
    "\n",
    "# option 2\n",
    "def mse_error(y, y_pred):\n",
    "    return np.mean(np.square(y - y_pred))"
   ]
  },
  {
   "cell_type": "code",
   "execution_count": 14,
   "id": "3139dbe1-78d8-46e5-a4c2-95e812e48dd9",
   "metadata": {},
   "outputs": [
    {
     "name": "stdout",
     "output_type": "stream",
     "text": [
      "MSE for naive forecast by average value equals: 27.086\n"
     ]
    }
   ],
   "source": [
    "# Naive forecast: predict sales by average value\n",
    "\n",
    "y_pred = y.mean()\n",
    "\n",
    "print('MSE for naive forecast by average value equals: {:.3f}'.format(mse_error(y_pred, y)))"
   ]
  },
  {
   "cell_type": "code",
   "execution_count": 15,
   "id": "fbefdb70-83ea-43c1-ae69-d720568317d7",
   "metadata": {},
   "outputs": [],
   "source": [
    "# Function to create forecast vector\n",
    "\n",
    "def lin_pred(X, w):\n",
    "    y_pred = X @ w\n",
    "    return y_pred"
   ]
  },
  {
   "cell_type": "code",
   "execution_count": 16,
   "id": "742c1d88-e60a-49a7-993a-dbd880d54d07",
   "metadata": {},
   "outputs": [],
   "source": [
    "# Function for to implement the stochastic gradient descent step\n",
    "\n",
    "def stoch_grad_step(X, y, w, train_ind, eta):\n",
    "    \"\"\"\n",
    "    Parameters:\n",
    "    - X: numpy array of shape (n_samples, n_features) representing the input features.\n",
    "    - y: numpy array of shape (n_samples,) representing the target values.\n",
    "    - w: numpy array of shape (n_features,) representing the weights.\n",
    "    - train_ind: index of the selected sample.\n",
    "    - eta: learning rate for the gradient update.\n",
    "\n",
    "    Returns:\n",
    "    - weights: updated weights after the stochastic gradient step.\n",
    "    \"\"\"\n",
    "    n_samples, n_features = X.shape\n",
    "    gradients = []\n",
    "    for j in range(n_features):\n",
    "        y_pred = np.dot(w[j], X[train_ind, j])\n",
    "        gradient = (X[train_ind, j] * (y_pred - y[train_ind])) / n_samples\n",
    "        gradients.append(gradient)\n",
    "    weights = w - 2 * eta * np.array(gradients)\n",
    "    return weights"
   ]
  },
  {
   "cell_type": "code",
   "execution_count": 17,
   "id": "6c5b51b0-30db-48eb-8fbb-d66fccaf0e15",
   "metadata": {},
   "outputs": [],
   "source": [
    "# Function for for implementing stochastic gradient descent\n",
    "\n",
    "def stochastic_gradient_descent(X, y, w_init, eta, max_iter, distance_metrics):\n",
    "    \"\"\"\n",
    "     Parameters:\n",
    "    - X: numpy array of shape (n_samples, n_features) representing the input features.\n",
    "    - y: numpy array of shape (n_samples,) representing the target values.\n",
    "    - init_w: numpy array of shape (n_features,) representing the initial weights.\n",
    "    - eta: learning rate for the gradient update.\n",
    "    - max_iter: number of iters (iterations) to run stochastic gradient descent.\n",
    "    - distance_metric: threshold for stopping the algorithm based on a specified distance metric.\n",
    "\n",
    "    Returns:\n",
    "    - weights: weights vector on which the method converged.\n",
    "    - errors: list of errors at each iter.\n",
    "    \n",
    "    \"\"\"\n",
    "    distance = np.inf     # distance between weight vectors at adjacent iterations\n",
    "    weights = w_init      # vector of weights\n",
    "    errors = []           # loss function outcomes\n",
    "    iter_num = 0          # iteration counter\n",
    "\n",
    "    while distance > distance_metrics and iter_num < max_iter:\n",
    "        weights_current = weights\n",
    "        random_ind = np.random.randint(X.shape[0])                 # generating random index\n",
    "        weights = stoch_grad_step(X, y, weights, random_ind, eta)  \n",
    "        errors.append(mse_error(y, lin_pred(X, weights)))\n",
    "        distance = np.linalg.norm(weights_current - weights)       # calculate the distance between vectors\n",
    "        iter_num += 1\n",
    "    return weights, errors"
   ]
  },
  {
   "cell_type": "code",
   "execution_count": 18,
   "id": "30285e4c-7a27-49f6-a395-e9bceb009a5c",
   "metadata": {},
   "outputs": [
    {
     "data": {
      "text/plain": [
       "Text(0, 0.5, 'MSE')"
      ]
     },
     "execution_count": 18,
     "metadata": {},
     "output_type": "execute_result"
    },
    {
     "data": {
      "image/png": "[encoded data removed]",
      "text/plain": [
       "<Figure size 800x400 with 1 Axes>"
      ]
     },
     "metadata": {},
     "output_type": "display_data"
    }
   ],
   "source": [
    "weights, errors = stochastic_gradient_descent(X, y,\n",
    "                                              w_init = np.zeros(X.shape[1]),\n",
    "                                              eta = 0.01,\n",
    "                                              max_iter = 1e5,\n",
    "                                              distance_metrics = 1e-8)\n",
    "\n",
    "fig = plt.figure(figsize = (8, 4))\n",
    "ax = fig.add_axes([0, 0, 1, 1])\n",
    "ax.plot(range(len(errors)), errors)\n",
    "ax.set_xlabel('Iteration number')\n",
    "ax.set_ylabel('MSE')"
   ]
  },
  {
   "cell_type": "code",
   "execution_count": null,
   "id": "bc744c72-4521-4c46-b703-68279841811a",
   "metadata": {},
   "outputs": [],
   "source": [
    "errors_df = pd.DataFrame(data = errors, index = np.arange(len(errors)))\n",
    "errors_df.plot(kind = 'line', figsize = (18, 4), grid = True, lw = 3);"
   ]
  },
  {
   "cell_type": "code",
   "execution_count": 19,
   "id": "84da9051-370d-4299-a826-2f4bbcbaeaf1",
   "metadata": {},
   "outputs": [
    {
     "name": "stdout",
     "output_type": "stream",
     "text": [
      "[ 3.91925365  2.79206274 -0.02253861]\n"
     ]
    }
   ],
   "source": [
    "print(w)"
   ]
  },
  {
   "cell_type": "code",
   "execution_count": 20,
   "id": "3a2970dc-38af-494f-9358-fea40763f515",
   "metadata": {},
   "outputs": [
    {
     "name": "stdout",
     "output_type": "stream",
     "text": [
      "[14.01663943  4.05688837  2.94243337  1.20093602]\n"
     ]
    }
   ],
   "source": [
    "print(weights)"
   ]
  },
  {
   "cell_type": "code",
   "execution_count": 21,
   "id": "4589b3e3-8734-4b0a-aacc-a3e27ea2a468",
   "metadata": {},
   "outputs": [
    {
     "name": "stdout",
     "output_type": "stream",
     "text": [
      "4.4742445237700625\n"
     ]
    }
   ],
   "source": [
    "print(errors[-1])"
   ]
  },
  {
   "cell_type": "markdown",
   "id": "6c73dd75-376e-45b5-93d3-287342fbeadd",
   "metadata": {},
   "source": [
    "### Conclusion:\n",
    "\n",
    "The Stochastic Gradient Descent showed the better result compare to Coordinate Desvcent."
   ]
  }
 ],
 "metadata": {
  "kernelspec": {
   "display_name": "Python 3 (ipykernel)",
   "language": "python",
   "name": "python3"
  },
  "language_info": {
   "codemirror_mode": {
    "name": "ipython",
    "version": 3
   },
   "file_extension": ".py",
   "mimetype": "text/x-python",
   "name": "python",
   "nbconvert_exporter": "python",
   "pygments_lexer": "ipython3",
   "version": "3.11.5"
  }
 },
 "nbformat": 4,
 "nbformat_minor": 5
}
